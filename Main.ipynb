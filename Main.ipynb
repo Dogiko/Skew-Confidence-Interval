{
 "cells": [
  {
   "cell_type": "markdown",
   "metadata": {},
   "source": [
    "# Skew-Confidence-Interval\n",
    "\n",
    "An algorithm to estimate CI for distribution with high skew.\n",
    "\n",
    "Generate a distribution $X~\\log{(N(\\mu, \\sigma))}+b$ with unique $\\mu, \\sigma, b$ match given $m, v, s$ (mean, variance and skewness).\n",
    "\n",
    "### ps:\n",
    "\n",
    "Only work when $s > 0$\n",
    "\n",
    "Use normal when $s := 0$\n",
    "\n",
    "Input $-s, -m$ when $s < 0$ and consider $-X$ finally."
   ]
  },
  {
   "cell_type": "code",
   "execution_count": 1,
   "metadata": {
    "collapsed": true
   },
   "outputs": [],
   "source": [
    "import numpy as np\n",
    "import scipy.stats"
   ]
  },
  {
   "cell_type": "code",
   "execution_count": 80,
   "metadata": {
    "collapsed": true
   },
   "outputs": [],
   "source": [
    "def magic_cubic(x, b):\n",
    "    # an cubic function to solve parameter of log normal from skewness\n",
    "    return (x-1)*((x+2)**2) - b\n",
    "\n",
    "def magic_cubic_deri(x):\n",
    "    # derivative of cubic function above\n",
    "    return 3*x*(x+2)\n",
    "\n",
    "class LogNormal():\n",
    "    def __init__(self, mean, var, skew, newton_threshold=0.000001):\n",
    "        if skew <= 0:\n",
    "            raise ValueError(\"skewness error, expect positive value, got {}\".format(skew))\n",
    "        if var <= 0:\n",
    "            raise ValueError(\"variance error, expect positive value, got {}\".format(var))\n",
    "        \n",
    "        pow_sigma2 = 1 + skew/9\n",
    "        for t in range(100):\n",
    "                break\n",
    "            \n",
    "            pow_sigma2 -= magic_cubic(pow_sigma2, skew**2)/magic_cubic_deri(pow_sigma2)\n",
    "        \n",
    "        pow_mu = (var/(pow_sigma2*(pow_sigma2 - 1 + 0.000001)))**0.5 # 0.000001 for stability\n",
    "        self.bias = mean - pow_mu*(pow_sigma2**0.5)\n",
    "        self.mu = np.log(pow_mu)\n",
    "        self.sigma = np.sqrt(np.log(pow_sigma2))\n",
    "    \n",
    "    def ppf(self, percent):\n",
    "        if (percent > 1) or (percent < 0):\n",
    "            raise ValueError(\"percent error, expect 0~1, got {}\".format(percent))\n",
    "        \n",
    "        return np.exp(self.mu + self.sigma*scipy.stats.norm.ppf(percent))+self.bias\n",
    "\n",
    "def "
   ]
  },
  {
   "cell_type": "code",
   "execution_count": null,
   "metadata": {
    "collapsed": true
   },
   "outputs": [],
   "source": []
  }
 ],
 "metadata": {
  "kernelspec": {
   "display_name": "Python 3",
   "language": "python",
   "name": "python3"
  },
  "language_info": {
   "codemirror_mode": {
    "name": "ipython",
    "version": 3
   },
   "file_extension": ".py",
   "mimetype": "text/x-python",
   "name": "python",
   "nbconvert_exporter": "python",
   "pygments_lexer": "ipython3",
   "version": "3.6.4"
  }
 },
 "nbformat": 4,
 "nbformat_minor": 2
}
