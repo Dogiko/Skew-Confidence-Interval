{
 "cells": [
  {
   "cell_type": "markdown",
   "metadata": {},
   "source": [
    "# Skew-Confidence-Interval\n",
    "\n",
    "An algorithm to estimate CI for distribution with high skew.\n",
    "\n",
    "Generate a distribution $X~\\log{(N(\\mu, \\sigma))}+b$ with unique $\\mu, \\sigma, b$ match given $m, v, s$ (mean, variance and skewness).\n",
    "\n",
    "### ps:\n",
    "\n",
    "Only work when $s > 0$\n",
    "\n",
    "Use normal when $s := 0$\n",
    "\n",
    "Input $-s, -m$ when $s < 0$ and consider $-X$ finally."
   ]
  },
  {
   "cell_type": "code",
   "execution_count": 3,
   "metadata": {
    "collapsed": true
   },
   "outputs": [],
   "source": [
    "import numpy as np\n",
    "import scipy.stats\n",
    "import scipy"
   ]
  },
  {
   "cell_type": "code",
   "execution_count": 26,
   "metadata": {
    "collapsed": true
   },
   "outputs": [],
   "source": [
    "def magic_cubic(x, b):\n",
    "    # an cubic function to solve parameter of log normal from skewness\n",
    "    return (x-1)*((x+2)**2) - b\n",
    "\n",
    "def magic_cubic_deri(x):\n",
    "    # derivative of cubic function above\n",
    "    return 3*x*(x+2)\n",
    "\n",
    "class LogNormal():\n",
    "    def __init__(self, mean, var, skew, newton_threshold=0.000001):\n",
    "        if skew <= 0:\n",
    "            raise ValueError(\"skewness error, expect positive value, got {}\".format(skew))\n",
    "        if var <= 0:\n",
    "            raise ValueError(\"variance error, expect positive value, got {}\".format(var))\n",
    "        \n",
    "        pow_sigma2 = 1 + skew/9\n",
    "        for t in range(100):\n",
    "            if magic_cubic(pow_sigma2, skew**2) < newton_threshold:\n",
    "                break\n",
    "            \n",
    "            pow_sigma2 -= magic_cubic(pow_sigma2, skew**2)/magic_cubic_deri(pow_sigma2)\n",
    "        \n",
    "        pow_mu = (var/(pow_sigma2*(pow_sigma2 - 1)))**0.5\n",
    "        self.bias = mean - pow_mu*(pow_sigma2**0.5)\n",
    "        self.mu = np.log(pow_mu)\n",
    "        self.sigma = np.sqrt(np.log(pow_sigma2))\n",
    "    \n",
    "    def ppf(self, percent):\n",
    "        # percent point function\n",
    "        if (percent > 1) or (percent < 0):\n",
    "            raise ValueError(\"percent error, expect 0~1, got {}\".format(percent))\n",
    "        \n",
    "        return np.exp(self.mu + self.sigma*scipy.stats.norm.ppf(percent))+self.bias"
   ]
  },
  {
   "cell_type": "markdown",
   "metadata": {},
   "source": [
    "## Test\n",
    "\n",
    "Consider a condition, throw an unfair coin n times"
   ]
  },
  {
   "cell_type": "code",
   "execution_count": 76,
   "metadata": {},
   "outputs": [
    {
     "name": "stdout",
     "output_type": "stream",
     "text": [
      "11 0.9898896657041567\n",
      "12 0.9908944367978395\n",
      "13 1.2387679259933058\n",
      "15 0.7978105422216691\n",
      "17 1.0007279262125086\n",
      "20 0.8075738743662686\n",
      "23 0.39637423837858254\n",
      "25 0.40998837116850945\n"
     ]
    }
   ],
   "source": [
    "n = 100\n",
    "p = 0.1\n",
    "\n",
    "hits = np.arange(n+1) # 0,1,...,n\n",
    "\n",
    "combine = (np.arange(n+1) < 2).astype(np.float64) # [1,1,0,0,...,0]\n",
    "for t in range(n-1):\n",
    "    combine[1:] += combine[:-1]\n",
    "\n",
    "prob = combine * np.power(p, hits) * np.power(1-p, n - hits)\n",
    "\n",
    "mean = (hits * prob).sum()\n",
    "var = (((hits - mean)**2)*prob).sum()\n",
    "skew = (((hits - mean)**3)*prob).sum()/(var**1.5)\n",
    "\n",
    "log_normal = LogNormal(mean, var, skew)\n",
    "\n",
    "for SL in [0.3, 0.2, 0.1, 0.05, 0.01, 0.001, 0.0001, 0.00001]: #Significance Level\n",
    "    CI = log_normal.ppf(1-SL)\n",
    "    print(int(CI), (prob*(hits>CI)).sum()/SL)"
   ]
  }
 ],
 "metadata": {
  "kernelspec": {
   "display_name": "Python 3",
   "language": "python",
   "name": "python3"
  },
  "language_info": {
   "codemirror_mode": {
    "name": "ipython",
    "version": 3
   },
   "file_extension": ".py",
   "mimetype": "text/x-python",
   "name": "python",
   "nbconvert_exporter": "python",
   "pygments_lexer": "ipython3",
   "version": "3.6.4"
  }
 },
 "nbformat": 4,
 "nbformat_minor": 2
}
